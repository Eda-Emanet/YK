{
 "cells": [
  {
   "cell_type": "code",
   "execution_count": 7,
   "id": "7964067f-021e-40ff-b5e8-64a40553e42e",
   "metadata": {},
   "outputs": [
    {
     "name": "stdout",
     "output_type": "stream",
     "text": [
      "Test Seti Doğruluk Skoru: 0.8645805592543275\n",
      "\n",
      "Sınıflandırma Raporu:\n",
      "              precision    recall  f1-score   support\n",
      "\n",
      "         0.0       0.89      0.93      0.91      5407\n",
      "         1.0       0.79      0.70      0.74      2103\n",
      "\n",
      "    accuracy                           0.86      7510\n",
      "   macro avg       0.84      0.81      0.83      7510\n",
      "weighted avg       0.86      0.86      0.86      7510\n",
      "\n",
      "F1 Score: 0.74324665488513\n"
     ]
    }
   ],
   "source": [
    "import json\n",
    "from data_loader import DataLoader\n",
    "from data_processor import DataProcessor\n",
    "from model_trainer import ModelTrainer\n",
    "from model_saver import ModelSaver\n",
    "from prediction import Predictor\n",
    "\n",
    "def load_config(config_path):\n",
    "    with open(config_path, 'r') as file:\n",
    "        config = json.load(file)\n",
    "    return config\n",
    "\n",
    "if __name__ == \"__main__\":\n",
    "    config_path = './config.json'\n",
    "    config = load_config(config_path)\n",
    "\n",
    "    data_path = config['data_path']\n",
    "    model_path = config['model_path']\n",
    "    seed = config['seed']\n",
    "    \n",
    "    # Datayi yuklemek icin\n",
    "    loader = DataLoader(data_path)\n",
    "    data = loader.load_data()\n",
    "\n",
    "    # Degisken islemek icin;\n",
    "    processor = DataProcessor(data, seed=seed)\n",
    "    processor.preprocess()\n",
    "    processor.split_data()\n",
    "    processor.preprocess_test_data()\n",
    "    x_train, x_test, y_train, y_test = processor.get_feature_engineered_data()\n",
    "\n",
    "    # Model egitimi ve basari metriklerini ekledim.\n",
    "    trainer = ModelTrainer(x_train, y_train, x_test, y_test, seed=seed)\n",
    "    trainer.train_model()\n",
    "    f1_score = trainer.evaluate_model()\n",
    "    print(\"F1 Score:\", f1_score)\n",
    "\n",
    "    # Modeli kaydettim.\n",
    "    saver = ModelSaver(trainer.model, model_path)\n",
    "    saver.save_model()\n",
    "\n",
    "    # Income NA olanlar icin prediction yapar ve excele alir;\n",
    "    validation_data = processor.preprocess_validation_data()\n",
    "    predictor = Predictor(trainer.model, processor.median_age, processor.occupation_to_education, processor.ordinal_encoder, x_train.columns)\n",
    "    predictions = predictor.predict(validation_data)\n",
    "    predictor.save_predictions(predictions, './val_predictions.xlsx')"
   ]
  }
 ],
 "metadata": {
  "kernelspec": {
   "display_name": "Python 3 (ipykernel)",
   "language": "python",
   "name": "python3"
  },
  "language_info": {
   "codemirror_mode": {
    "name": "ipython",
    "version": 3
   },
   "file_extension": ".py",
   "mimetype": "text/x-python",
   "name": "python",
   "nbconvert_exporter": "python",
   "pygments_lexer": "ipython3",
   "version": "3.12.7"
  }
 },
 "nbformat": 4,
 "nbformat_minor": 5
}
