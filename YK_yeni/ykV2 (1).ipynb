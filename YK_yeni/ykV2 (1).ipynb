{
 "cells": [
  {
   "cell_type": "markdown",
   "id": "cda6fc6f-d412-46fd-9bb1-a7fd6ea51003",
   "metadata": {},
   "source": [
    "# YK CASE \n"
   ]
  },
  {
   "cell_type": "code",
   "execution_count": 276,
   "id": "05280649-b894-44fc-845f-519bf35bbb5f",
   "metadata": {},
   "outputs": [],
   "source": [
    "import openpyxl\n",
    "import xlsxwriter\n",
    "import pandas as pd \n",
    "import numpy as np\n",
    "from sklearn.cluster import KMeans\n",
    "from scipy.stats import kstest\n",
    "import plotly.express as px\n",
    "import plotly.graph_objects as go\n",
    "import openpyxl\n",
    "from datetime import datetime\n",
    "from sklearn.model_selection import train_test_split\n",
    "from sklearn.ensemble import RandomForestRegressor\n",
    "from sklearn.metrics import mean_squared_error, r2_score\n",
    "from sklearn.preprocessing import StandardScaler\n",
    "from sklearn.linear_model import LinearRegression\n",
    "from sklearn.ensemble import RandomForestRegressor, GradientBoostingRegressor\n",
    "from sklearn.preprocessing import StandardScaler\n",
    "from sklearn.metrics import mean_squared_error, r2_score\n",
    "from sklearn.ensemble import AdaBoostRegressor, ExtraTreesRegressor\n",
    "from sklearn.tree import DecisionTreeRegressor\n",
    "from sklearn.neighbors import KNeighborsRegressor\n",
    "from sklearn.svm import SVR\n",
    "import matplotlib.pyplot as plt\n",
    "from sklearn.preprocessing import LabelEncoder\n",
    "import seaborn as sns\n",
    "import warnings\n",
    "from sklearn.model_selection import train_test_split\n",
    "from sklearn.preprocessing import StandardScaler\n",
    "import seaborn as sns\n",
    "import matplotlib.pyplot as plt\n",
    "from sklearn.ensemble import RandomForestClassifier\n",
    "from sklearn.metrics import confusion_matrix\n",
    "from sklearn.metrics import classification_report, accuracy_score\n",
    "from sklearn.pipeline import Pipeline\n",
    "from sklearn.metrics import make_scorer, f1_score\n",
    "from sklearn.preprocessing import RobustScaler\n",
    "from imblearn.over_sampling import SMOTE\n",
    "import time \n",
    "from sklearn.svm import SVC\n",
    "from sklearn.tree import DecisionTreeClassifier  \n",
    "from sklearn.ensemble import AdaBoostClassifier \n",
    "from sklearn.ensemble import GradientBoostingClassifier\n",
    "from sklearn.neighbors import KNeighborsClassifier \n",
    "from sklearn.linear_model import LogisticRegression\n",
    "from xgboost import XGBClassifier,XGBRegressor\n",
    "from lightgbm import LGBMClassifier,LGBMRegressor\n",
    "from sklearn.metrics import precision_score\n",
    "from sklearn.metrics import recall_score, f1_score\n",
    "from sklearn.metrics import roc_auc_score\n",
    "from sklearn.model_selection import cross_val_score\n",
    "from sklearn.preprocessing import MinMaxScaler\n",
    "import shap\n",
    "from sklearn.model_selection import RandomizedSearchCV\n",
    "from scipy.stats import randint\n",
    "from sklearn.preprocessing import StandardScaler, MinMaxScaler, RobustScaler\n",
    "from sklearn.model_selection import GridSearchCV\n",
    "from sklearn.pipeline import Pipeline\n",
    "from lightgbm import LGBMClassifier\n",
    "from sklearn.preprocessing import OrdinalEncoder\n",
    "from catboost import CatBoostClassifier\n",
    "\n",
    "SEED = 42\n",
    "warnings.filterwarnings(\"ignore\")\n",
    "\n"
   ]
  },
  {
   "cell_type": "code",
   "execution_count": 277,
   "id": "8a690066-ac2c-4792-9687-47711c0407a8",
   "metadata": {},
   "outputs": [],
   "source": [
    "#dfs = pd.read_excel(\"dosya.xlsx\", sheet_name=None) \n",
    "data = pd.read_csv('./income_case_study.csv', delimiter=\";\")\n",
    "data.drop_duplicates(inplace=True)\n",
    "# Test datasının saklanması\n",
    "val = data[data['income'].isna()]\n",
    "data = data[data['income'].notnull()]\n"
   ]
  },
  {
   "cell_type": "markdown",
   "id": "d6ddc00e-be29-435d-ac62-3d6e22325a2c",
   "metadata": {},
   "source": [
    "# Data Ön İşleme"
   ]
  },
  {
   "cell_type": "code",
   "execution_count": 278,
   "id": "0bb22375-0ae2-4109-b664-f65fbfb98673",
   "metadata": {},
   "outputs": [],
   "source": [
    "data[\"education-num\"] = data.groupby(\"education_level\")[\"education-num\"].transform(lambda x: x.fillna(x.max()))\n",
    "data[\"income\"] = data[\"income\"].str.strip()\n",
    "data[\"income\"] = data[\"income\"].map({'>50K': 1, '<=50K': 0})\n"
   ]
  },
  {
   "cell_type": "code",
   "execution_count": 279,
   "id": "bc1b02c3-2f6b-4722-a598-9cda81eea78e",
   "metadata": {},
   "outputs": [],
   "source": [
    "# Satırlardaki boşlukları düzeltme\n",
    "data[\"education_level\"] = data[\"education_level\"].str.strip()\n",
    "data[\"workclass\"] = data[\"workclass\"].str.strip()\n",
    "data[\"marital-status\"] = data[\"marital-status\"].str.strip()\n",
    "data[\"occupation\"] = data[\"occupation\"].str.strip()\n",
    "data[\"education_level\"] = data[\"education_level\"].str.strip()\n",
    "data[\"relationship\"] = data[\"relationship\"].str.strip()\n",
    "data[\"race\"] = data[\"race\"].str.strip()\n",
    "data[\"sex\"] = data[\"sex\"].str.strip()\n",
    "data[\"native-country\"] = data[\"native-country\"].str.strip()\n",
    "#data[\"income\"] = data[\"income\"].str.strip()"
   ]
  },
  {
   "cell_type": "code",
   "execution_count": 280,
   "id": "ef1f2521-f855-4752-803e-e0255c16f626",
   "metadata": {},
   "outputs": [],
   "source": [
    "data['education_level'].replace('Preschool', 'dropout',inplace=True)\n",
    "data['education_level'].replace('10th', 'dropout',inplace=True)\n",
    "data['education_level'].replace('11th', 'dropout',inplace=True)\n",
    "data['education_level'].replace('12th', 'dropout',inplace=True)\n",
    "data['education_level'].replace('1st-4th', 'dropout',inplace=True)\n",
    "data['education_level'].replace('5th-6th', 'dropout',inplace=True)\n",
    "data['education_level'].replace('7th-8th', 'dropout',inplace=True)\n",
    "data['education_level'].replace('9th', 'dropout',inplace=True)\n",
    "data['education_level'].replace('HS-Grad', 'HighGrad',inplace=True)\n",
    "data['education_level'].replace('HS-grad', 'HighGrad',inplace=True)\n",
    "data['education_level'].replace('Some-college', 'CommunityCollege',inplace=True)\n",
    "data['education_level'].replace('Assoc-acdm', 'CommunityCollege',inplace=True)\n",
    "data['education_level'].replace('Assoc-voc', 'CommunityCollege',inplace=True)\n",
    "data['education_level'].replace('Bachelors', 'Bachelors',inplace=True)\n",
    "data['education_level'].replace('Masters', 'Masters',inplace=True)\n",
    "data['education_level'].replace('Prof-school', 'Masters',inplace=True)\n",
    "data['education_level'].replace('Doctorate', 'Doctorate',inplace=True)"
   ]
  },
  {
   "cell_type": "code",
   "execution_count": 281,
   "id": "917058a8-b008-4272-b6bb-be32b7307887",
   "metadata": {},
   "outputs": [],
   "source": [
    "#df2 = my_df['marital-status'].replace(' Never-married', 'NotMarried')\n",
    "data['marital-status'].replace('Never-married', 'NotMarried',inplace=True)\n",
    "data['marital-status'].replace(['Married-AF-spouse'], 'Married',inplace=True)\n",
    "data['marital-status'].replace(['Married-civ-spouse'], 'Married',inplace=True)\n",
    "data['marital-status'].replace(['Married-spouse-absent'], 'NotMarried',inplace=True)\n",
    "data['marital-status'].replace(['Separated'], 'Separated',inplace=True)\n",
    "data['marital-status'].replace(['Divorced'], 'Separated',inplace=True)\n",
    "data['marital-status'].replace(['Widowed'], 'Widowed',inplace=True)"
   ]
  },
  {
   "cell_type": "code",
   "execution_count": 282,
   "id": "5c7501c9-4b2d-4983-ad15-617d9399df7a",
   "metadata": {},
   "outputs": [],
   "source": [
    "data['occupation_flag'] = np.where(\n",
    "    data['occupation'].isin(['Exec-managerial', 'Prof-specialty','Craft-repair']), # 'Craft-repair',\n",
    "    1,\n",
    "    0\n",
    ")\n"
   ]
  },
  {
   "cell_type": "code",
   "execution_count": 283,
   "id": "6aaf6d0f-b222-4108-8568-8319076a8b9f",
   "metadata": {},
   "outputs": [],
   "source": [
    "data['net_capital'] = data['capital-gain'] - data['capital-loss']\n",
    "data['has_capital_gain'] = data['capital-gain'].apply(lambda x: 1 if x > 0 else 0)\n",
    "\n",
    "data['is_college_grad'] = data['education-num'].apply(lambda x: 1 if x >= 10 else 0)\n",
    "\n",
    "def map_hours_to_type(hours):\n",
    "    if hours <= 20:\n",
    "        return \"Part-time\"\n",
    "    elif hours <= 40:\n",
    "        return \"Full-time\"\n",
    "    else:\n",
    "        return \"Overwork\"\n",
    "\n",
    "data['hours_type'] = data['hours-per-week'].apply(map_hours_to_type)\n",
    "data['is_American'] = data['native-country'].map(lambda x: 'United-States' if x == 'United-States' else 'Other')\n",
    "data[\"not_paying\"] = np.where(data[\"workclass\"] == \"Without-pay\", 1, 0)"
   ]
  },
  {
   "cell_type": "code",
   "execution_count": 284,
   "id": "bd78f7f3-d88e-4a0e-bd46-b44376e86561",
   "metadata": {},
   "outputs": [],
   "source": [
    "x = data[['age',\n",
    "          'workclass', 'education_level',\n",
    "       'marital-status',\n",
    "          'occupation', \n",
    "          'race', 'sex',\n",
    "      # 'capital-gain', \n",
    "          'capital-loss', \n",
    "         'hours-per-week','net_capital', 'has_capital_gain', 'is_American', \"not_paying\", \"occupation_flag\",'hours_type',\n",
    "          'is_college_grad' \n",
    "         ]]\n",
    "y = data[['income']]"
   ]
  },
  {
   "cell_type": "markdown",
   "id": "5b604723-6720-4f15-b455-b4ce451bf2cf",
   "metadata": {},
   "source": [
    "# Test-Train ayrımı"
   ]
  },
  {
   "cell_type": "code",
   "execution_count": 285,
   "id": "eb8240ec-ba99-417c-bb34-1d8fd208a178",
   "metadata": {},
   "outputs": [],
   "source": [
    "x_train, x_test, y_train, y_test = train_test_split(x, y, test_size=0.2, random_state=SEED, stratify=y, \n",
    "    shuffle=True )"
   ]
  },
  {
   "cell_type": "code",
   "execution_count": 286,
   "id": "56c9325a-8fd4-4bdc-b727-7008cb87af98",
   "metadata": {},
   "outputs": [],
   "source": [
    "median_age = x_train['age'].median()\n",
    "x_train['age'].fillna(median_age, inplace=True)"
   ]
  },
  {
   "cell_type": "code",
   "execution_count": 287,
   "id": "71db6344-2dd1-4ad8-90e7-5a12e86e200a",
   "metadata": {},
   "outputs": [],
   "source": [
    "x_train['age-hours'] = x_train['age']*x_train['hours-per-week']"
   ]
  },
  {
   "cell_type": "code",
   "execution_count": 288,
   "id": "79a75c33-8c6c-41a8-90f7-a0e37e534574",
   "metadata": {},
   "outputs": [],
   "source": [
    "import pandas as pd\n",
    "\n",
    "def get_education_mode_mapping(df):\n",
    "    \"\"\"\n",
    "    Eğitim setinden occupation bazında en sık geçen education_level değerlerini çıkarır.\n",
    "    \"\"\"\n",
    "    return df.groupby(\"occupation\")[\"education_level\"].agg(lambda x: x.mode()[0] if not x.mode().empty else None).to_dict()\n",
    "\n",
    "def fill_missing_education(df, occupation_to_education):\n",
    "    \"\"\"\n",
    "    Eksik education_level değerlerini occupation'a göre doldurur.\n",
    "    \"\"\"\n",
    "    df[\"education_level\"] = df.apply(\n",
    "        lambda row: occupation_to_education.get(row[\"occupation\"], \"HighGrad\") if pd.isna(row[\"education_level\"]) else row[\"education_level\"],\n",
    "        axis=1\n",
    "    )\n",
    "    return df\n",
    "\n",
    "# 1️⃣ Eğitim setinde occupation bazlı mode değerlerini hesapla\n",
    "occupation_to_education = get_education_mode_mapping(x_train)\n",
    "\n",
    "# 2️⃣ Eğitim setindeki eksik değerleri doldur\n",
    "x_train = fill_missing_education(x_train, occupation_to_education)"
   ]
  },
  {
   "cell_type": "markdown",
   "id": "ce58c848-4350-43d8-b86f-b18fd1b53be5",
   "metadata": {},
   "source": [
    "# Kategorik Değişkenleri Etiketleme\n"
   ]
  },
  {
   "cell_type": "code",
   "execution_count": 289,
   "id": "66e5f873-ddb3-44ac-8db8-2e7a7e447879",
   "metadata": {},
   "outputs": [],
   "source": [
    "# Kategorik sıralama listesi (hiyerarşik encoding için)\n",
    "education_order = [\"dropout\", \"HighGrad\", \"CommunityCollege\", \"Bachelors\", \"Masters\", \"Doctorate\"]\n",
    "\n",
    "# Veriyi temizleme ve küçük harfe çevirme (birebir eşleşme için)\n",
    "x_train[\"education_level\"] = x_train[\"education_level\"].astype(str).str.strip()\n",
    "\n",
    "# Ordinal Encoder oluşturma ve bilinmeyen değerleri -1 ile işaretleme\n",
    "ordinal_encoder = OrdinalEncoder(categories=[education_order], handle_unknown=\"use_encoded_value\", unknown_value=-1)\n",
    "\n",
    "# Encoding işlemini gerçekleştir\n",
    "x_train[\"education_level_encoded\"] = ordinal_encoder.fit_transform(x_train[[\"education_level\"]])\n"
   ]
  },
  {
   "cell_type": "code",
   "execution_count": 290,
   "id": "c5d3dd68-86c9-4031-8f83-fd7ee4b77a10",
   "metadata": {},
   "outputs": [],
   "source": [
    "x_train['education_work'] = x_train[\"education_level_encoded\"]*x_train['hours-per-week'] "
   ]
  },
  {
   "cell_type": "code",
   "execution_count": 291,
   "id": "a44b8da7-7722-481a-b17b-257d0424a4f1",
   "metadata": {
    "scrolled": true
   },
   "outputs": [],
   "source": [
    "# One-Hot Encoding uygulama\n",
    "x_train = pd.get_dummies(x_train, columns=[ \"sex\",  'marital-status',\n",
    "                                           \"race\",\n",
    "                                           \"occupation\",\"workclass\",\n",
    "                                           'has_capital_gain', 'is_American',\"not_paying\", \"occupation_flag\",'hours_type',\n",
    "                                           'is_college_grad'\n",
    "                                          ], drop_first=True)\n"
   ]
  },
  {
   "cell_type": "code",
   "execution_count": 292,
   "id": "aa6e1c92-9da3-4309-b25c-0b6acff90eb0",
   "metadata": {
    "scrolled": true
   },
   "outputs": [],
   "source": [
    "x_train = x_train.drop(columns=[\"education_level\"])"
   ]
  },
  {
   "cell_type": "markdown",
   "id": "67d15101-d43b-4452-a45f-04e282c67f2d",
   "metadata": {},
   "source": [
    "# Test datasını hazırlama "
   ]
  },
  {
   "cell_type": "code",
   "execution_count": 293,
   "id": "9a453cd9-6333-46d7-bc93-142a666801d3",
   "metadata": {},
   "outputs": [],
   "source": [
    "x_test['age'].fillna(median_age, inplace=True)    \n",
    "x_test['age-hours'] = x_test['age']*x_test['hours-per-week']\n",
    "x_test = fill_missing_education(x_test, occupation_to_education)\n"
   ]
  },
  {
   "cell_type": "code",
   "execution_count": 294,
   "id": "34793b73-94e8-4fb9-bd2e-89421a83710a",
   "metadata": {},
   "outputs": [],
   "source": [
    "x_test[\"education_level_encoded\"] = ordinal_encoder.fit_transform(x_test[[\"education_level\"]])\n",
    "x_test['education_work'] = x_test[\"education_level_encoded\"]*x_test['hours-per-week'] \n",
    "\n",
    "x_test = pd.get_dummies(x_test, columns=[ \"sex\", 'marital-status',\n",
    "                                         \"race\",\n",
    "                                         \"occupation\",\"workclass\",\n",
    "                                         'has_capital_gain','is_American',\"not_paying\", \"occupation_flag\",'hours_type',\n",
    "                                         'is_college_grad'\n",
    "                                         \n",
    "                                        ], drop_first=True)"
   ]
  },
  {
   "cell_type": "code",
   "execution_count": 295,
   "id": "89449126-50d5-4e3b-b640-36118702c52a",
   "metadata": {},
   "outputs": [],
   "source": [
    "x_test = x_test.drop(columns=[\"education_level\"])\n"
   ]
  },
  {
   "cell_type": "markdown",
   "id": "0fafa80a-22a5-482d-bc9f-74f97a521fad",
   "metadata": {},
   "source": [
    "# Model Kurulumu"
   ]
  },
  {
   "cell_type": "code",
   "execution_count": 296,
   "id": "1468d5bb-49e9-4899-9cdf-45ec2f862c6a",
   "metadata": {},
   "outputs": [
    {
     "name": "stdout",
     "output_type": "stream",
     "text": [
      "Test Seti Doğruluk Skoru: 0.8645805592543275\n",
      "\n",
      "Sınıflandırma Raporu:\n",
      "              precision    recall  f1-score   support\n",
      "\n",
      "           0       0.89      0.93      0.91      5407\n",
      "           1       0.79      0.70      0.74      2103\n",
      "\n",
      "    accuracy                           0.86      7510\n",
      "   macro avg       0.84      0.81      0.83      7510\n",
      "weighted avg       0.86      0.86      0.86      7510\n",
      "\n"
     ]
    },
    {
     "data": {
      "text/plain": [
       "0.74324665488513"
      ]
     },
     "execution_count": 296,
     "metadata": {},
     "output_type": "execute_result"
    }
   ],
   "source": [
    "from xgboost import XGBClassifier\n",
    "\n",
    "# scale_pos_weight = (sınıf_0 sayısı) / (sınıf_1 sayısı)\n",
    "scale_pos = len(y_train[y_train==0]) / len(y_train[y_train==1])\n",
    "\n",
    "xgb_model = XGBClassifier(scale_pos_weight=scale_pos, random_state=42)\n",
    "xgb_model.fit(x_train, y_train)\n",
    "y_pred = xgb_model.predict(x_test)\n",
    "\n",
    "accuracy = accuracy_score(y_test, y_pred)\n",
    "print(\"Test Seti Doğruluk Skoru:\", accuracy)\n",
    "print(\"\\nSınıflandırma Raporu:\")\n",
    "print(classification_report(y_test, y_pred))\n",
    "f1 = f1_score(y_test, y_pred)\n",
    "f1"
   ]
  }
 ],
 "metadata": {
  "kernelspec": {
   "display_name": "Python 3 (ipykernel)",
   "language": "python",
   "name": "python3"
  },
  "language_info": {
   "codemirror_mode": {
    "name": "ipython",
    "version": 3
   },
   "file_extension": ".py",
   "mimetype": "text/x-python",
   "name": "python",
   "nbconvert_exporter": "python",
   "pygments_lexer": "ipython3",
   "version": "3.12.7"
  }
 },
 "nbformat": 4,
 "nbformat_minor": 5
}
