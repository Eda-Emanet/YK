{
 "cells": [
  {
   "cell_type": "code",
   "execution_count": 17,
   "id": "1eaac26d-8c9a-491d-bf20-7b8810642242",
   "metadata": {},
   "outputs": [
    {
     "name": "stdout",
     "output_type": "stream",
     "text": [
      "Test Seti Doğruluk Skoru: 0.8645805592543275\n",
      "\n",
      "Sınıflandırma Raporu:\n",
      "              precision    recall  f1-score   support\n",
      "\n",
      "           0       0.89      0.93      0.91      5407\n",
      "           1       0.79      0.70      0.74      2103\n",
      "\n",
      "    accuracy                           0.86      7510\n",
      "   macro avg       0.84      0.81      0.83      7510\n",
      "weighted avg       0.86      0.86      0.86      7510\n",
      "\n",
      "F1 Score: 0.74324665488513\n"
     ]
    }
   ],
   "source": [
    "import json\n",
    "from data_loader import DataLoader\n",
    "from data_preprocessor import DataPreprocessor\n",
    "from feature_engineer import FeatureEngineer\n",
    "from model_trainer import ModelTrainer\n",
    "from model_saver import ModelSaver\n",
    "\n",
    "def load_config(config_path):\n",
    "    with open(config_path, 'r') as file:\n",
    "        config = json.load(file)\n",
    "    return config\n",
    "\n",
    "if __name__ == \"__main__\":\n",
    "    config_path = './config.json'\n",
    "    config = load_config(config_path)\n",
    "\n",
    "    data_path = config['data_path']\n",
    "    model_path = config['model_path']\n",
    "    seed = config['seed']\n",
    "    \n",
    "    # Data yukleme\n",
    "    loader = DataLoader(data_path)\n",
    "    data = loader.load_data()\n",
    "\n",
    "    # On isleme\n",
    "    preprocessor = DataPreprocessor(data)\n",
    "    preprocessor.preprocess()\n",
    "    processed_data = preprocessor.get_processed_data()\n",
    "\n",
    "    # Degisken muhendisligi\n",
    "    engineer = FeatureEngineer(processed_data, seed=seed)\n",
    "    engineer.split_data()\n",
    "    engineer.preprocess_test_data()\n",
    "    x_train, x_test, y_train, y_test = engineer.get_feature_engineered_data()\n",
    "\n",
    "    # Egitim ve basari metrikleri\n",
    "    trainer = ModelTrainer(x_train, y_train, x_test, y_test, seed=seed)\n",
    "    trainer.train_model()\n",
    "    f1_score = trainer.evaluate_model()\n",
    "    print(\"F1 Score:\", f1_score)\n",
    "\n",
    "    # Modeli kaydetme\n",
    "    saver = ModelSaver(trainer.model, model_path)\n",
    "    saver.save_model()"
   ]
  }
 ],
 "metadata": {
  "kernelspec": {
   "display_name": "Python 3 (ipykernel)",
   "language": "python",
   "name": "python3"
  },
  "language_info": {
   "codemirror_mode": {
    "name": "ipython",
    "version": 3
   },
   "file_extension": ".py",
   "mimetype": "text/x-python",
   "name": "python",
   "nbconvert_exporter": "python",
   "pygments_lexer": "ipython3",
   "version": "3.12.7"
  }
 },
 "nbformat": 4,
 "nbformat_minor": 5
}
